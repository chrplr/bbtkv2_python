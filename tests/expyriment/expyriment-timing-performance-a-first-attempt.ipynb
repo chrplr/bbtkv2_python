{
 "cells": [
  {
   "cell_type": "markdown",
   "id": "3767364f",
   "metadata": {},
   "source": [
    "# A quick assessment of the timing performance of expyriment \n",
    "\n",
    "\n",
    "The script [check-audio-visual-timing](https://github.com/chrplr/PCBS/blob/master/experiments/expyriment/check-audio-visual-timing.py) attempts to display a white square for 100ms and simultaneously play a 100ms pure tone, every half second, like in the [Timing Mega-study](https://peerj.com/articles/9414/).\n",
    "\n",
    "I launched this script on a venerable computer, a Latitude E6320 with a Core i5-2540M, running Ubuntu 20.04.4 and Expyriment 0.10, monitoring the  visual and audio events with a BlackBox ToolKit v2 controlled by the [bbtkv2 python module](https://github.com/chrplr/bbtkv2_python).\n",
    "\n",
    "265 trials were recorded. Here is a quick analysis (I shall do better another time: with more measurements and better settings, see below) "
   ]
  },
  {
   "cell_type": "code",
   "execution_count": 66,
   "id": "27fc2ed6",
   "metadata": {},
   "outputs": [],
   "source": [
    "import pandas as pd\n",
    "%matplotlib inline\n",
    "import matplotlib.pyplot as plt"
   ]
  },
  {
   "cell_type": "code",
   "execution_count": 67,
   "id": "58fda382",
   "metadata": {
    "scrolled": true
   },
   "outputs": [
    {
     "data": {
      "text/plain": [
       "Unnamed: 0    265\n",
       "Type          265\n",
       "Onset         265\n",
       "Duration      265\n",
       "dtype: int64"
      ]
     },
     "execution_count": 67,
     "metadata": {},
     "output_type": "execute_result"
    }
   ],
   "source": [
    "events = pd.read_csv('bbtk_processed_events.csv')\n",
    "events.loc[events.Type == 'Opto1'].count()"
   ]
  },
  {
   "cell_type": "markdown",
   "id": "14e63689",
   "metadata": {},
   "source": [
    "# duration of visual square (target=100ms)"
   ]
  },
  {
   "cell_type": "code",
   "execution_count": 68,
   "id": "5e844f3d",
   "metadata": {
    "scrolled": true
   },
   "outputs": [
    {
     "data": {
      "text/plain": [
       "count    265.000000\n",
       "mean     100.934906\n",
       "std        6.793892\n",
       "min       83.000000\n",
       "25%      101.000000\n",
       "50%      102.250000\n",
       "75%      103.750000\n",
       "max      127.750000\n",
       "Name: Duration, dtype: float64"
      ]
     },
     "execution_count": 68,
     "metadata": {},
     "output_type": "execute_result"
    }
   ],
   "source": [
    "events.loc[events.Type == 'Opto1'].Duration.describe()"
   ]
  },
  {
   "cell_type": "code",
   "execution_count": 69,
   "id": "107e850f",
   "metadata": {},
   "outputs": [
    {
     "data": {
      "text/plain": [
       "(array([ 6., 12.,  9.,  5.,  2.,  2.,  1.,  1.,  0.,  0.,  0., 27., 83.,\n",
       "        55., 31.,  8.,  8.,  2.,  8.,  0.,  0.,  0.,  0.,  3.,  0.,  1.,\n",
       "         0.,  0.,  0.,  1.]),\n",
       " array([ 83.        ,  84.49166667,  85.98333333,  87.475     ,\n",
       "         88.96666667,  90.45833333,  91.95      ,  93.44166667,\n",
       "         94.93333333,  96.425     ,  97.91666667,  99.40833333,\n",
       "        100.9       , 102.39166667, 103.88333333, 105.375     ,\n",
       "        106.86666667, 108.35833333, 109.85      , 111.34166667,\n",
       "        112.83333333, 114.325     , 115.81666667, 117.30833333,\n",
       "        118.8       , 120.29166667, 121.78333333, 123.275     ,\n",
       "        124.76666667, 126.25833333, 127.75      ]),\n",
       " <BarContainer object of 30 artists>)"
      ]
     },
     "execution_count": 69,
     "metadata": {},
     "output_type": "execute_result"
    },
    {
     "data": {
      "image/png": "[encoded data removed]",
      "text/plain": [
       "<Figure size 432x288 with 1 Axes>"
      ]
     },
     "metadata": {
      "needs_background": "light"
     },
     "output_type": "display_data"
    }
   ],
   "source": [
    "plt.hist(events.loc[events.Type=='Opto1'].Duration, bins=30)"
   ]
  },
  {
   "cell_type": "markdown",
   "id": "4dbc6553",
   "metadata": {},
   "source": [
    "## Visual ISI (target=500ms)"
   ]
  },
  {
   "cell_type": "code",
   "execution_count": 70,
   "id": "6a2a6eab",
   "metadata": {
    "scrolled": true
   },
   "outputs": [
    {
     "data": {
      "text/plain": [
       "count    264.000000\n",
       "mean     499.962121\n",
       "std        7.619984\n",
       "min      486.500000\n",
       "25%      503.250000\n",
       "50%      503.500000\n",
       "75%      503.500000\n",
       "max      520.750000\n",
       "Name: Onset, dtype: float64"
      ]
     },
     "execution_count": 70,
     "metadata": {},
     "output_type": "execute_result"
    }
   ],
   "source": [
    "events.loc[events.Type == 'Opto1'].Onset.diff().describe()"
   ]
  },
  {
   "cell_type": "markdown",
   "id": "714f3db7",
   "metadata": {},
   "source": [
    "Remark: as we were actually aiming at displaying at the the target times, the ISI is not the best measure because it will be shorten to compensate for trial in which the square as displayed for a too long or not long enough"
   ]
  },
  {
   "cell_type": "markdown",
   "id": "73ae1cd7",
   "metadata": {},
   "source": [
    "# Differences between Audio and Visual onset times"
   ]
  },
  {
   "cell_type": "code",
   "execution_count": 71,
   "id": "d19e9259",
   "metadata": {},
   "outputs": [
    {
     "data": {
      "text/plain": [
       "count    265.000000\n",
       "mean      -3.170755\n",
       "std        5.874584\n",
       "min      -24.500000\n",
       "25%       -7.500000\n",
       "50%       -3.000000\n",
       "75%        1.500000\n",
       "max        8.500000\n",
       "dtype: float64"
      ]
     },
     "execution_count": 71,
     "metadata": {},
     "output_type": "execute_result"
    }
   ],
   "source": [
    "soa = events.loc[events.Type == 'Mic1'].Onset.to_numpy() - events.loc[events.Type == 'Opto1'].Onset.to_numpy()\n",
    "pd.Series(soa).describe()"
   ]
  },
  {
   "cell_type": "code",
   "execution_count": 72,
   "id": "ba3b4120",
   "metadata": {
    "scrolled": false
   },
   "outputs": [
    {
     "data": {
      "text/plain": [
       "(array([ 2.,  1.,  0.,  0.,  1.,  0.,  0.,  0.,  2.,  2.,  3.,  5., 16.,\n",
       "        11., 15., 14., 14., 21., 13., 17., 16., 12., 25., 18., 18., 13.,\n",
       "        10.,  8.,  6.,  2.]),\n",
       " array([-24.5, -23.4, -22.3, -21.2, -20.1, -19. , -17.9, -16.8, -15.7,\n",
       "        -14.6, -13.5, -12.4, -11.3, -10.2,  -9.1,  -8. ,  -6.9,  -5.8,\n",
       "         -4.7,  -3.6,  -2.5,  -1.4,  -0.3,   0.8,   1.9,   3. ,   4.1,\n",
       "          5.2,   6.3,   7.4,   8.5]),\n",
       " <BarContainer object of 30 artists>)"
      ]
     },
     "execution_count": 72,
     "metadata": {},
     "output_type": "execute_result"
    },
    {
     "data": {
      "image/png": "[encoded data removed]",
      "text/plain": [
       "<Figure size 432x288 with 1 Axes>"
      ]
     },
     "metadata": {
      "needs_background": "light"
     },
     "output_type": "display_data"
    }
   ],
   "source": [
    "plt.hist(soa, bins=30)"
   ]
  },
  {
   "cell_type": "markdown",
   "id": "e69daff0",
   "metadata": {},
   "source": [
    "It is odd to see negative number. I suspect that the photodiode did not always detect the onset of the flashed square. Let's check this. "
   ]
  },
  {
   "cell_type": "code",
   "execution_count": 73,
   "id": "530da987",
   "metadata": {
    "scrolled": true
   },
   "outputs": [
    {
     "data": {
      "text/plain": [
       "Text(0, 0.5, 'Visual-Audio SOA target=0ms)')"
      ]
     },
     "execution_count": 73,
     "metadata": {},
     "output_type": "execute_result"
    },
    {
     "data": {
      "image/png": "[encoded data removed]",
      "text/plain": [
       "<Figure size 432x288 with 1 Axes>"
      ]
     },
     "metadata": {
      "needs_background": "light"
     },
     "output_type": "display_data"
    }
   ],
   "source": [
    "plt.plot(events.loc[events.Type == 'Opto1'].Duration, soa, marker='o', linestyle='')\n",
    "plt.xlabel('Detected Opto Duration (target=100)')\n",
    "plt.ylabel('Visual-Audio SOA target=0ms)')"
   ]
  },
  {
   "cell_type": "markdown",
   "id": "05f64b28",
   "metadata": {},
   "source": [
    "CCL: I should rerun the experiment checking more carefully the Opto detection threshold !"
   ]
  },
  {
   "cell_type": "markdown",
   "id": "f5b8c245",
   "metadata": {},
   "source": [
    "# Audio duration (target=100ms)"
   ]
  },
  {
   "cell_type": "code",
   "execution_count": 74,
   "id": "6067a926",
   "metadata": {},
   "outputs": [
    {
     "data": {
      "text/plain": [
       "count    265.000000\n",
       "mean     119.805660\n",
       "std        0.104202\n",
       "min      119.750000\n",
       "25%      119.750000\n",
       "50%      119.750000\n",
       "75%      119.750000\n",
       "max      120.000000\n",
       "Name: Duration, dtype: float64"
      ]
     },
     "execution_count": 74,
     "metadata": {},
     "output_type": "execute_result"
    }
   ],
   "source": [
    "events.loc[events.Type == 'Mic1'].Duration.describe()"
   ]
  },
  {
   "cell_type": "markdown",
   "id": "3de61346",
   "metadata": {},
   "source": [
    "Note: the documentation of the Black Box toolkits mentions that when smoothing is 'on' (as was the case here), one must subtract 20ms. Thus we find that the duration is correct."
   ]
  },
  {
   "cell_type": "markdown",
   "id": "9c743fd9",
   "metadata": {},
   "source": [
    "---\n",
    "Christophe@pallier.org\n",
    "\n",
    "2022-04-22"
   ]
  },
  {
   "cell_type": "code",
   "execution_count": null,
   "id": "a63ef9de",
   "metadata": {},
   "outputs": [],
   "source": []
  }
 ],
 "metadata": {
  "kernelspec": {
   "display_name": "Python 3",
   "language": "python",
   "name": "python3"
  },
  "language_info": {
   "codemirror_mode": {
    "name": "ipython",
    "version": 3
   },
   "file_extension": ".py",
   "mimetype": "text/x-python",
   "name": "python",
   "nbconvert_exporter": "python",
   "pygments_lexer": "ipython3",
   "version": "3.8.8"
  }
 },
 "nbformat": 4,
 "nbformat_minor": 5
}
